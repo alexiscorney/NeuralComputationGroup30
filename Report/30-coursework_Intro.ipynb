{
 "cells": [
  {
   "cell_type": "markdown",
   "metadata": {},
   "source": [
    "# Coursework for Neural Computation"
   ]
  },
  {
   "cell_type": "markdown",
   "metadata": {},
   "source": [
    "### Group member: Giacomo Fiorindo, Alexis Corney, Tomas Vycas, Yue Xu, Emil Gabriel Logofatu；"
   ]
  },
  {
   "cell_type": "code",
   "execution_count": 1,
   "metadata": {},
   "outputs": [],
   "source": [
    "# use justify align?"
   ]
  },
  {
   "cell_type": "markdown",
   "metadata": {},
   "source": [
    "### 1. Introduction"
   ]
  },
  {
   "cell_type": "markdown",
   "metadata": {},
   "source": [
    "- Discuss the data sets involved, the machine learning task, and what you aimed to achieve. [5%]"
   ]
  },
  {
   "cell_type": "markdown",
   "metadata": {},
   "source": [
    "<div style=\"text-align: justify\">MRI is one of the most crucial techniques in clinical diagnosis and research. As a non-invasive, repeatable and more accurate technique, it is becoming more and more essential in nowadays medical treatment. However, MRI is difficult and costly. Statistics show that the average price of MR imaging in the UK is 788 (US Dollar) [1] in 2015. On one hand, the study objects need to lie still and hold breath during the image acquisition in order not to degrade the quality of the images. On the other hand, the long image acquisition time results in the high cost per imaging which leads to MR method remain relatively unused.</div>\n",
    "<br>\n",
    "<div style=\"text-align: justify\">The image information acquired from MR is k-space data which is determined by the field-of-view (FOV), the spatial resolution of the image and the Nyquist criterion. Once the FOV and spatial resolution are set, the k-space information that we acquired is determined by the Nyquist criterion. A common method (Undersampled Acquisition) that is used to reduce the MR imaging acquisition time is to not collect the full number of k-space data points which is against the Nyquist criterion that expects to collect the full number of k-space data. Due to the violation of the Nyquist criterion, aliasing artefacts will be seen in the reconstructed images. Aliasing appearance depends on how the samples are taken. Methods have been implemented to reduce the aliasing artefacts, i.e. parallel imaging, compressed sensing reconstruction. The realisation of parallel imaging need multiple coils and will not be discussed in this report.</div>"
   ]
  },
  {
   "cell_type": "markdown",
   "metadata": {},
   "source": [
    "<table>\n",
    "<tr>\n",
    "<td> <img src=\"NC_01.png\" alt=\"Drawing\" style=\"width:300px;\"/> </td>\n",
    "<td> <img src=\"Apply_4fold.png\" alt=\"Drawing\" style=\"width: 300px;\"/> </td>\n",
    "</tr>\n",
    "<tr>\n",
    "<td> <center> Figure 1 </center> </td>  \n",
    "<td> <center> Figure 2 </center> </td> \n",
    "</tr>    \n",
    "</table>"
   ]
  },
  {
   "cell_type": "markdown",
   "metadata": {},
   "source": [
    "<div style=\"text-align: justify\">In undersampled MRI, the goal is to find a function $f$ that can map the undersampled k-space data to an image $y'$ which has high similarity with the ground truth image $y$ or to say the image gained from full-sampled k-space data. $x_{full}$ denotes the full-sampled k-space data while $x$ denotes the k-space data after undersampling. As shown in Figure 1, the undersampled MRI consists of 2 parts, undersampling and reconstruction. In the undersampling part, the undersampling strategy used in this report, as required, is the Cartesian undersampling trajectory. First, it generates random 4-fold/8-fold mask function using the trajectory. Then would receive the under-sampled k-space data $x$ by multiplying the mask function and the full-sampled k-space data $x_{full}$. $\\mathcal{F}$ represents the Fourier Transformation and $\\mathcal{F^{-1}}$ represents the inverse Fourier Transformation. </div>\n",
    "<div style=\"text-align: justify\">In Figure 2, apply a random 4-fold mask to a full-sampled k-space data and receive corresponding undersampled k-space data. If inverse Fourier Transformation is directly applied to the undersampled data ( $f = \\mathcal{F}^{-1}$), a blurred image ( $y'$ )is constructed. In order to gain less blurred image, this report focuses on building and adopting different reconstruction function. The goal </div>"
   ]
  },
  {
   "cell_type": "markdown",
   "metadata": {},
   "source": [
    "#####\n",
    "<div style=\"text-align: justify\"> \n",
    "</div>"
   ]
  },
  {
   "cell_type": "markdown",
   "metadata": {},
   "source": [
    "[1] https://www.statista.com/statistics/312020/price-of-mri-diagnostics-by-country/"
   ]
  },
  {
   "cell_type": "markdown",
   "metadata": {},
   "source": [
    "### 2. Design\n",
    "- Describe and justify the neural network you designed for the task, and the factors you decided to experiment with. [15%]"
   ]
  },
  {
   "cell_type": "markdown",
   "metadata": {},
   "source": [
    "### 3. Implementation\n",
    "- Describe how you implemented your neural network and the asso- ciated performance analysis mechanisms. Explain why you chose to do it that way. Remember to cite any sources you used. Include comments in the source code that explains how the code works. [20%]"
   ]
  },
  {
   "cell_type": "markdown",
   "metadata": {},
   "source": [
    "### 4. Experiments\n",
    "- Describe the experiments you carried out to optimise your network’s generalization performance, and present the results you obtained. Explain in detail how you used the training and test data sets. The results should be presented in a statistically rigorous manner. [45%]"
   ]
  },
  {
   "cell_type": "markdown",
   "metadata": {},
   "source": [
    "### 5. Conclusions\n",
    "- Summarize your key findings, including which factors proved most crucial, and what was the best generalization performance you achieved. [10%]"
   ]
  },
  {
   "cell_type": "markdown",
   "metadata": {},
   "source": [
    "### 6. Description of contribution\n",
    "- Describe each group members’ contribution to the overall project. [5%]\n"
   ]
  },
  {
   "cell_type": "markdown",
   "metadata": {},
   "source": [
    "### Reference"
   ]
  },
  {
   "cell_type": "markdown",
   "metadata": {},
   "source": [
    "Loy, J. (2019). How to build your own Neural Network from scratch in Python. [online] Medium. Available at: https://towardsdatascience.com/how-to-build-your-own-neural-network-from-scratch-in-python-68998a08e4f6 [Accessed 5 Dec. 2019].\n",
    "\n",
    "Ml4a.github.io. (2019). How neural networks are trained. [online] Available at: https://ml4a.github.io/ml4a/how_neural_networks_are_trained/ [Accessed 5 Dec. 2019].\n",
    "\n",
    "Sankesara, H. (2019). U-Net. [online] Medium. Available at: https://towardsdatascience.com/u-net-b229b32b4a71 [Accessed 5 Dec. 2019].\n",
    "\n",
    "Sterbak, T. (2018). U-Net for segmenting seismic images with keras – Depends on the definition. [online] Depends-on-the-definition.com. Available at: https://www.depends-on-the-definition.com/unet-keras-segmenting-images/ [Accessed 5 Dec. 2019].\n",
    "\n",
    "Lamba, H. (2017). Understanding Semantic Segmentation with UNET. [online] Medium. Available at: https://towardsdatascience.com/understanding-semantic-segmentation-with-unet-6be4f42d4b47 [Accessed 5 Dec. 2019].\n",
    "\n",
    "Hollingsworth, K. (2015). Reducing acquisition time in clinical MRI by data undersampling and compressed sensing reconstruction. Physics in Medicine and Biology, 60(21), pp.R297-R322.\n",
    "\n",
    "Hyun, C., Kim, H., Lee, S., Lee, S. and Seo, J. (2018). Deep learning for undersampled MRI reconstruction. Physics in Medicine & Biology, 63(13), p.135007.\n",
    "\n",
    "Prieto, C. (2016). Undersampled Reconstruction Techniques to Speed up MRI.\n",
    "\n",
    "Zhao, H., Gallo, O., Frosio, I. and Kautz, J. (2017). Loss Functions for Image Restoration With Neural Networks. IEEE Transactions on Computational Imaging, 3(1), pp.47-57."
   ]
  },
  {
   "cell_type": "code",
   "execution_count": null,
   "metadata": {},
   "outputs": [],
   "source": []
  }
 ],
 "metadata": {
  "kernelspec": {
   "display_name": "Python 3",
   "language": "python",
   "name": "python3"
  },
  "language_info": {
   "codemirror_mode": {
    "name": "ipython",
    "version": 3
   },
   "file_extension": ".py",
   "mimetype": "text/x-python",
   "name": "python",
   "nbconvert_exporter": "python",
   "pygments_lexer": "ipython3",
   "version": "3.7.4"
  }
 },
 "nbformat": 4,
 "nbformat_minor": 2
}
