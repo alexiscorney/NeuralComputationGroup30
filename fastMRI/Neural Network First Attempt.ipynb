{
 "cells": [
  {
   "cell_type": "code",
   "execution_count": 5,
   "metadata": {},
   "outputs": [
    {
     "ename": "ModuleNotFoundError",
     "evalue": "No module named 'import_ipynb'",
     "output_type": "error",
     "traceback": [
      "\u001b[0;31m---------------------------------------------------------------------------\u001b[0m",
      "\u001b[0;31mModuleNotFoundError\u001b[0m                       Traceback (most recent call last)",
      "\u001b[0;32m<ipython-input-5-347ec373bc16>\u001b[0m in \u001b[0;36m<module>\u001b[0;34m\u001b[0m\n\u001b[1;32m      5\u001b[0m \u001b[0;32mimport\u001b[0m \u001b[0mnumpy\u001b[0m \u001b[0;32mas\u001b[0m \u001b[0mnp\u001b[0m\u001b[0;34m\u001b[0m\u001b[0m\n\u001b[1;32m      6\u001b[0m \u001b[0;32mfrom\u001b[0m \u001b[0mmatplotlib\u001b[0m \u001b[0;32mimport\u001b[0m \u001b[0mpyplot\u001b[0m \u001b[0;32mas\u001b[0m \u001b[0mplt\u001b[0m\u001b[0;34m\u001b[0m\u001b[0m\n\u001b[0;32m----> 7\u001b[0;31m \u001b[0;32mimport\u001b[0m \u001b[0mimport_ipynb\u001b[0m\u001b[0;34m\u001b[0m\u001b[0m\n\u001b[0m",
      "\u001b[0;31mModuleNotFoundError\u001b[0m: No module named 'import_ipynb'"
     ]
    }
   ],
   "source": [
    "import torch \n",
    "import torch.nn as nn \n",
    "\n",
    "import h5py, os\n",
    "import numpy as np\n",
    "from matplotlib import pyplot as plt"
   ]
  },
  {
   "cell_type": "code",
   "execution_count": 2,
   "metadata": {},
   "outputs": [],
   "source": [
    "device = 'cuda:0' if torch.cuda.is_available() else 'cpu'  # check whether a GPU is available\n"
   ]
  },
  {
   "cell_type": "code",
   "execution_count": 4,
   "metadata": {},
   "outputs": [
    {
     "ename": "NameError",
     "evalue": "name 'data_loader' is not defined",
     "output_type": "error",
     "traceback": [
      "\u001b[0;31m---------------------------------------------------------------------------\u001b[0m",
      "\u001b[0;31mNameError\u001b[0m                                 Traceback (most recent call last)",
      "\u001b[0;32m<ipython-input-4-407f8ccbad79>\u001b[0m in \u001b[0;36m<module>\u001b[0;34m\u001b[0m\n\u001b[1;32m      3\u001b[0m \u001b[0mval_data_path\u001b[0m \u001b[0;34m=\u001b[0m \u001b[0;34m'/data/local/NC2019MRI/test'\u001b[0m\u001b[0;34m\u001b[0m\u001b[0m\n\u001b[1;32m      4\u001b[0m \u001b[0;34m\u001b[0m\u001b[0m\n\u001b[0;32m----> 5\u001b[0;31m \u001b[0mdata_list\u001b[0m \u001b[0;34m=\u001b[0m \u001b[0mdata_loader\u001b[0m\u001b[0;34m.\u001b[0m\u001b[0mload_data_path\u001b[0m\u001b[0;34m(\u001b[0m\u001b[0mtrain_data_path\u001b[0m\u001b[0;34m,\u001b[0m \u001b[0mval_data_path\u001b[0m\u001b[0;34m)\u001b[0m\u001b[0;34m\u001b[0m\u001b[0m\n\u001b[0m\u001b[1;32m      6\u001b[0m \u001b[0;34m\u001b[0m\u001b[0m\n",
      "\u001b[0;31mNameError\u001b[0m: name 'data_loader' is not defined"
     ]
    }
   ],
   "source": [
    "#PREPARE THE DATA \n",
    "train_data_path = '/data/local/NC2019MRI/train'\n",
    "val_data_path = '/data/local/NC2019MRI/test'\n",
    "\n",
    "data_list = data_loader.load_data_path(train_data_path, val_data_path)\n",
    "\n"
   ]
  },
  {
   "cell_type": "code",
   "execution_count": null,
   "metadata": {},
   "outputs": [],
   "source": [
    "print(data_list)\n",
    "\n",
    "slices, height, width = input_k.shape()\n",
    "\n",
    "#make x_train_tensor and y_train_tensor\n",
    "\n",
    "from torch.utils.data import TensorDataset, DataLoader\n",
    "\n",
    "train_data = TensorDataset(x_train_tensor, y_train_tensor)\n",
    "train_loader = DataLoader(dataset=train_data, batch_size=16, shuffle=True)"
   ]
  },
  {
   "cell_type": "code",
   "execution_count": null,
   "metadata": {},
   "outputs": [],
   "source": [
    "#build the network\n",
    "\n",
    "#fully connected input layer (64)\n",
    "\n",
    "#--\n",
    "\n",
    "#convolutional layers (relu)\n",
    "\n",
    "#fully connected output layer (64)\n"
   ]
  },
  {
   "cell_type": "code",
   "execution_count": null,
   "metadata": {},
   "outputs": [],
   "source": [
    "class NeuralNetworkModel(nn.Module):\n",
    "\n",
    "    def __init__(self):\n",
    "        super().__init__()\n",
    "    #parameters\n",
    "    \n",
    "    #architecutre\n",
    "        self.conv1 = nn.Conv2d(slices, height, width)\n",
    "        self.conv2 = nn.Conv2d(slices, height, width)\n",
    "        \n",
    "        self.max_pool1 = nn.MaxPool2d(slices, height, width)\n",
    "        \n",
    "        self.conv3 = nn.Conv2d(slices, height, width)\n",
    "        self.conv4 = nn.Conv2d(slices, height, width)\n",
    "        \n",
    "        \n",
    "        \n",
    "    def forward(self, x):\n",
    "        x = F.relu(self.conv1(x))\n",
    "        x = F.relu(self.conv2(x))\n",
    "        x = F.relu(self.max_pool1(x))\n",
    "        x = F.relu(self.conv3(x))\n",
    "        x = F.relu(self.conv4(x))\n",
    "        return "
   ]
  },
  {
   "cell_type": "code",
   "execution_count": null,
   "metadata": {},
   "outputs": [],
   "source": [
    "import torch.optim as optim\n",
    "torch.manual_seed(42)\n",
    "\n",
    "#create a model\n",
    "model = NeuralNetworkModel().to(device)\n",
    "\n",
    "# we can also inspect its parameters\n",
    "print(\"Before training: \\n\", model.state_dict())"
   ]
  },
  {
   "cell_type": "code",
   "execution_count": null,
   "metadata": {},
   "outputs": [],
   "source": [
    "#GAN network\n",
    "\n",
    "#loss function "
   ]
  },
  {
   "cell_type": "code",
   "execution_count": null,
   "metadata": {},
   "outputs": [],
   "source": [
    "#loss function\n",
    "#start point: L1 loss |output - gold standard|\n",
    "\n",
    "#ssim loss\n",
    "\n",
    "#VGG loss\n",
    "\n",
    "#GAN loss \n",
    "\n",
    "#L2 mean squared error between the output and the gold standard \n",
    "\n"
   ]
  },
  {
   "cell_type": "code",
   "execution_count": null,
   "metadata": {},
   "outputs": [],
   "source": [
    "\"\"\"The proposed method consists of two major components : deep learning using U-net and k-space correction. \n",
    "As a preprecessing, we first fill in zeros for the unmeasured region of the undersampled data to get the \n",
    "zero-padded data. Then, we take the inverse Fourier transform, take its absolute value, and obtain the folded image.\n",
    "After the preprocess, we put this folded image into the trained U-net and produce the U-net output. \n",
    "The U-net recovers the zero-padded part of the k-space data. \n",
    "We take the Fourier transform and replace the unpadded parts by the original k-space data to preserve the \n",
    "original measured data. Finally, we obtain the final output image by applying the inverse Fourier \n",
    "transform and absolute value.\"\"\""
   ]
  },
  {
   "cell_type": "code",
   "execution_count": null,
   "metadata": {},
   "outputs": [],
   "source": [
    "#preprocessing:\n",
    "#zero pad the masked data \n",
    "\n",
    "#take the inverse Fourier transform "
   ]
  },
  {
   "cell_type": "code",
   "execution_count": null,
   "metadata": {},
   "outputs": [],
   "source": [
    "#train the network \n",
    "# set learning rate\n",
    "lr = 1e-1\n",
    "\n",
    "# set number of epoches, i.e., number of times we iterate through the training set\n",
    "epoches = 100\n",
    "\n",
    "# We use mean square error (MSELoss)\n",
    "loss_fn = nn.MSELoss(reduction='mean')\n",
    "\n",
    "# We also use stochastic gradient descent (SGD) to update a and b\n",
    "optimiser = optim.SGD(model.parameters(), lr=lr)\n",
    "\n",
    "for epoch in range(epoches):\n",
    "    model.train()             # set the model to training mode \n",
    "    for x_batch, y_batch in train_loader:\n",
    "        # send tensors to device (cpu/cuda)\n",
    "        x_batch = x_batch.to(device)\n",
    "        y_batch = y_batch.to(device)\n",
    "\n",
    "        optimiser.zero_grad() #avoid accumulating gradients\n",
    "        y_pred = new_model(x_batch)\n",
    "        loss = loss_fn(y_batch, y_pred)\n",
    "        loss.backward() # calculate gradients\n",
    "        optimiser.step() # update model's params\n",
    "         \n",
    "\n",
    "print(\"After training: \\n\", model.state_dict())NN = Neural_Network()\n"
   ]
  }
 ],
 "metadata": {
  "kernelspec": {
   "display_name": "Python 3",
   "language": "python",
   "name": "python3"
  },
  "language_info": {
   "codemirror_mode": {
    "name": "ipython",
    "version": 3
   },
   "file_extension": ".py",
   "mimetype": "text/x-python",
   "name": "python",
   "nbconvert_exporter": "python",
   "pygments_lexer": "ipython3",
   "version": "3.6.3"
  }
 },
 "nbformat": 4,
 "nbformat_minor": 2
}
