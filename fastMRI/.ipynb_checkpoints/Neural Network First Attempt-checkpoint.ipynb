{
 "cells": [
  {
   "cell_type": "code",
   "execution_count": null,
   "metadata": {},
   "outputs": [],
   "source": [
    "import torch \n",
    "import torch.nn as nn \n",
    "\n",
    "import h5py, os\n",
    "import numpy as np\n",
    "from matplotlib import pyplot as plt"
   ]
  },
  {
   "cell_type": "code",
   "execution_count": null,
   "metadata": {},
   "outputs": [],
   "source": [
    "device = 'cuda:0' if torch.cuda.is_available() else 'cpu'  # check whether a GPU is available\n"
   ]
  },
  {
   "cell_type": "code",
   "execution_count": null,
   "metadata": {},
   "outputs": [],
   "source": [
    "#PREPARE THE DATA \n",
    "import data_loader \n",
    "\n",
    "slices, height, width = input_k.shape()\n",
    "\n",
    "#make x_train_tensor and y_train_tensor\n",
    "\n",
    "from torch.utils.data import TensorDataset, DataLoader\n",
    "\n",
    "train_data = TensorDataset(x_train_tensor, y_train_tensor)\n",
    "train_loader = DataLoader(dataset=train_data, batch_size=16, shuffle=True)\n"
   ]
  },
  {
   "cell_type": "code",
   "execution_count": null,
   "metadata": {},
   "outputs": [],
   "source": [
    "#build the network\n",
    "\n",
    "#fully connected input layer (64)\n",
    "\n",
    "#--\n",
    "\n",
    "#convolutional layers (relu)\n",
    "\n",
    "#fully connected output layer (64)\n"
   ]
  },
  {
   "cell_type": "code",
   "execution_count": null,
   "metadata": {},
   "outputs": [],
   "source": [
    "class ConvolutionalBlock(nn.Module):\n",
    "    \"\"\"\n",
    "    2 lots of:\n",
    "        3x3 convolutional blocks\n",
    "        Instance Normalisation \n",
    "        ReLu\n",
    "        Dropout \n",
    "    \"\"\"\n",
    "\n",
    "    def __init__(self, in_chans, out_chans, drop_prob):\n",
    "        super().__init__()\n",
    "\n",
    "        self.in_chans = in_chans\n",
    "        self.out_chans = out_chans\n",
    "        self.drop_prob = drop_prob\n",
    "\n",
    "        self.layers = nn.Sequential(\n",
    "            nn.Conv2d(in_chans, out_chans, kernel_size=3, padding=1),\n",
    "            nn.InstanceNorm2d(out_chans),\n",
    "            nn.ReLU(),\n",
    "            nn.Dropout2d(drop_prob),\n",
    "            nn.Conv2d(out_chans, out_chans, kernel_size=3, padding=1),\n",
    "            nn.InstanceNorm2d(out_chans),\n",
    "            nn.ReLU(),\n",
    "            nn.Dropout2d(drop_prob)\n",
    "        )\n",
    "\n",
    "    def forward(self, input):\n",
    "        \"\"\"\n",
    "        Args:\n",
    "            input (torch.Tensor): Input tensor of shape [batch_size, self.in_chans, height, width]\n",
    "        Returns:\n",
    "            (torch.Tensor): Output tensor of shape [batch_size, self.out_chans, height, width]\n",
    "        \"\"\"\n",
    "        return self.layers(input)\n",
    "\n"
   ]
  },
  {
   "cell_type": "code",
   "execution_count": null,
   "metadata": {},
   "outputs": [],
   "source": [
    "class NeuralNetworkModel(nn.Module):\n",
    "    \"\"\"\n",
    "        Unet model\n",
    "    \"\"\"\n",
    "\n",
    "    def __init__(self, in_chans, out_chans, chans, num_pool_layers, drop_prob):\n",
    "        \"\"\"\n",
    "        Args:\n",
    "            in_chans (int): Number of channels in the input to the U-Net model.\n",
    "            out_chans (int): Number of channels in the output to the U-Net model.\n",
    "            chans (int): Number of output channels of the first convolution layer.\n",
    "            num_pool_layers (int): Number of down-sampling and up-sampling layers.\n",
    "            drop_prob (float): Dropout probability.\n",
    "        \"\"\"\n",
    "        super().__init__()\n",
    "        \n",
    "\n",
    "        self.in_chans = in_chans\n",
    "        self.out_chans = out_chans\n",
    "        self.chans = chans\n",
    "        self.num_pool_layers = num_pool_layers\n",
    "        self.drop_prob = drop_prob\n",
    "\n",
    "        self.layers_list_downsample = nn.ModuleList()\n",
    "        convblock_1 = ConvolutionalBlock(in_chans, chans, drop_prob)\n",
    "        layers_list += convblock_1\n",
    "        \n",
    "        ch = chans\n",
    "        #create a new convolutionalm block for each layer, doubling the number of channels to downsample \n",
    "        for i in range(num_pool_layers - 1):\n",
    "            new_convBlock = ConvolutionBlock(ch, ch * 2, drop_prob)\n",
    "            self.layers_list_downsample += [new_convBlock]\n",
    "            ch *= 2\n",
    "        #one for convolution block with the same number of channels as the previous    \n",
    "        self.conv = ConvolutionBlock(ch, ch, drop_prob)\n",
    "\n",
    "        #the same thing but decreasing the chanells to upsample \n",
    "        self.layers_list_upsample = nn.ModuleList()\n",
    "        for i in range(num_pool_layers - 1):\n",
    "            new_convBlock = ConvolutionBlock(ch * 2, ch // 2, drop_prob)\n",
    "            self.layers_list_upsample += [new_convBlock]\n",
    "            ch //= 2\n",
    "        self.layer_list_upsample += [ConvBlock(ch * 2, ch, drop_prob)]\n",
    "        \n",
    "        #2 convolution layers to build the data up to the same size at the input \n",
    "        self.conv2 = nn.Sequential(\n",
    "            nn.Conv2d(ch, ch // 2, kernel_size=1),\n",
    "            nn.Conv2d(ch // 2, out_chans, kernel_size=1),\n",
    "            nn.Conv2d(out_chans, out_chans, kernel_size=1),\n",
    "        )\n",
    "\n",
    "    def forward(self, input):\n",
    "        \"\"\"\n",
    "        Args:\n",
    "            input (torch.Tensor): Input tensor of shape [batch_size, self.in_chans, height, width]\n",
    "        Returns:\n",
    "            (torch.Tensor): Output tensor of shape [batch_size, self.out_chans, height, width]\n",
    "        \"\"\"\n",
    "        stack = []\n",
    "        output = input\n",
    "        # Apply down-sampling layers\n",
    "        for layer in self.layer_list_downsample:\n",
    "            output = layer(output)\n",
    "            stack.append(output)\n",
    "            #apply 2x2 max pooling \n",
    "            output = F.max_pool2d(output, kernel_size=2)\n",
    "\n",
    "        output = self.conv(output)\n",
    "\n",
    "        # Apply up-sampling layers\n",
    "        for layer in self.layer_list_downsample:\n",
    "            output = F.interpolate(output, scale_factor=2, mode='bilinear', align_corners=False)\n",
    "            output = torch.cat([output, stack.pop()], dim=1)\n",
    "            output = layer(output)\n",
    "        return self.conv2(output)"
   ]
  },
  {
   "cell_type": "code",
   "execution_count": null,
   "metadata": {},
   "outputs": [],
   "source": []
  },
  {
   "cell_type": "code",
   "execution_count": null,
   "metadata": {},
   "outputs": [],
   "source": [
    "import torch.optim as optim\n",
    "torch.manual_seed(42)\n",
    "\n",
    "#create a model\n",
    "model = NeuralNetworkModel().to(device)\n",
    "\n",
    "#inspect parameters \n",
    "print(\"Before training: \\n\", model.state_dict())"
   ]
  },
  {
   "cell_type": "code",
   "execution_count": null,
   "metadata": {},
   "outputs": [],
   "source": []
  },
  {
   "cell_type": "code",
   "execution_count": null,
   "metadata": {},
   "outputs": [],
   "source": [
    "#loss function\n",
    "#start point: L1 loss |output - gold standard|\n",
    "\n",
    "#ssim loss\n",
    "\n",
    "#VGG loss\n",
    "\n",
    "#GAN loss \n",
    "\n",
    "#L2 mean squared error between the output and the gold standard \n",
    "\n",
    "#mean square error (MSELoss)\n",
    "loss_fn = nn.MSELoss(reduction='mean')"
   ]
  },
  {
   "cell_type": "code",
   "execution_count": null,
   "metadata": {},
   "outputs": [],
   "source": [
    "#optimiser\n",
    "#stochastic gradient descent (SGD)\n",
    "optimiser = optim.SGD(model.parameters(), lr=lr)"
   ]
  },
  {
   "cell_type": "markdown",
   "metadata": {},
   "source": []
  },
  {
   "cell_type": "code",
   "execution_count": null,
   "metadata": {},
   "outputs": [],
   "source": [
    "\"\"\"The proposed method consists of two major components : deep learning using U-net and k-space correction. \n",
    "As a preprecessing, we first fill in zeros for the unmeasured region of the undersampled data to get the \n",
    "zero-padded data. Then, we take the inverse Fourier transform, take its absolute value, and obtain the folded image.\n",
    "After the preprocess, we put this folded image into the trained U-net and produce the U-net output. \n",
    "The U-net recovers the zero-padded part of the k-space data. \n",
    "We take the Fourier transform and replace the unpadded parts by the original k-space data to preserve the \n",
    "original measured data. Finally, we obtain the final output image by applying the inverse Fourier \n",
    "transform and absolute value.\"\"\""
   ]
  },
  {
   "cell_type": "code",
   "execution_count": null,
   "metadata": {},
   "outputs": [],
   "source": [
    "#preprocessing:\n",
    "#zero pad the masked data \n",
    "\n",
    "#take the inverse Fourier transform "
   ]
  },
  {
   "cell_type": "code",
   "execution_count": null,
   "metadata": {},
   "outputs": [],
   "source": [
    "#train the network \n",
    "# set learning rate\n",
    "lr = 1e-1\n",
    "\n",
    "# set number of epoches, i.e., number of times we iterate through the training set\n",
    "epoches = 100\n",
    "\n",
    "for epoch in range(epoches):\n",
    "    model.train()             # set the model to training mode \n",
    "    for x_batch, y_batch in train_loader:\n",
    "        # send tensors to device (cpu/cuda)\n",
    "        x_batch = x_batch.to(device)\n",
    "        y_batch = y_batch.to(device)\n",
    "\n",
    "        optimiser.zero_grad() #avoid accumulating gradients\n",
    "        y_pred = new_model(x_batch)\n",
    "        loss = loss_fn(y_batch, y_pred)\n",
    "        loss.backward() # calculate gradients\n",
    "        optimiser.step() # update model's params\n",
    "         \n",
    "\n",
    "print(\"After training: \\n\", model.state_dict())NN = Neural_Network()\n"
   ]
  }
 ],
 "metadata": {
  "kernelspec": {
   "display_name": "Python 3",
   "language": "python",
   "name": "python3"
  },
  "language_info": {
   "codemirror_mode": {
    "name": "ipython",
    "version": 3
   },
   "file_extension": ".py",
   "mimetype": "text/x-python",
   "name": "python",
   "nbconvert_exporter": "python",
   "pygments_lexer": "ipython3",
   "version": "3.6.3"
  }
 },
 "nbformat": 4,
 "nbformat_minor": 2
}
